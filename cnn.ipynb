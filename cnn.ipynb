{
 "cells": [
  {
   "cell_type": "markdown",
   "metadata": {},
   "source": [
    "# Importing Libraries"
   ]
  },
  {
   "cell_type": "code",
   "execution_count": 45,
   "metadata": {},
   "outputs": [],
   "source": [
    "import os\n",
    "from PIL import Image\n",
    "import matplotlib.pyplot as plt"
   ]
  },
  {
   "cell_type": "code",
   "execution_count": 47,
   "metadata": {},
   "outputs": [],
   "source": [
    "from sklearn.preprocessing import StandardScaler\n",
    "from keras.models import Sequential # class of NN\n",
    "from keras.layers import Convolution2D # class for adding convulution\n",
    "from keras.layers import MaxPooling2D # pooling layer class\n",
    "from keras.layers import Flatten # flatten layer class\n",
    "from keras.layers import Dense, Dropout # other normal layer in nn\n",
    "import tensorflow as tf\n",
    "from keras.preprocessing.image import ImageDataGenerator\n",
    "from joblib import dump"
   ]
  },
  {
   "cell_type": "code",
   "execution_count": 46,
   "metadata": {},
   "outputs": [
    {
     "data": {
      "text/plain": [
       "['test_set', 'training_set']"
      ]
     },
     "execution_count": 46,
     "metadata": {},
     "output_type": "execute_result"
    }
   ],
   "source": [
    "os.listdir('datasets')"
   ]
  },
  {
   "cell_type": "code",
   "execution_count": 48,
   "metadata": {},
   "outputs": [],
   "source": [
    "# Initialising the CNN\n",
    "classifier = Sequential()\n",
    "classifier.add(Convolution2D(filters= 16,\n",
    "                             kernel_size= (5, 5), \n",
    "                             input_shape = (512, 512,1),\n",
    "                             activation = 'relu'))\n",
    "classifier.add(MaxPooling2D(pool_size = (2, 2)))\n",
    "classifier.add(Dropout(.2))\n",
    "classifier.add(Convolution2D(filters = 32,\n",
    "                             kernel_size = (5, 5), \n",
    "                             activation = 'relu'))\n",
    "# adding a second maxpooling layer\n",
    "classifier.add(MaxPooling2D(pool_size = (2, 2)))\n",
    "classifier.add(Dropout(.2))\n",
    "# Step 3 - Flattening\n",
    "classifier.add(Flatten())\n",
    "\n",
    "# Step 4 - Full connection\n",
    "classifier.add(Dense(units = 128, activation = 'relu'))\n",
    "classifier.add(Dense(units = 1, activation = 'sigmoid'))\n",
    "\n",
    "# Compiling the CNN\n",
    "classifier.compile(optimizer = 'adam',\n",
    "                   loss = 'binary_crossentropy', \n",
    "                   metrics = ['accuracy'])"
   ]
  },
  {
   "cell_type": "code",
   "execution_count": 49,
   "metadata": {},
   "outputs": [
    {
     "name": "stdout",
     "output_type": "stream",
     "text": [
      "Model: \"sequential_2\"\n",
      "_________________________________________________________________\n",
      " Layer (type)                Output Shape              Param #   \n",
      "=================================================================\n",
      " conv2d_4 (Conv2D)           (None, 508, 508, 16)      416       \n",
      "                                                                 \n",
      " max_pooling2d_4 (MaxPooling  (None, 254, 254, 16)     0         \n",
      " 2D)                                                             \n",
      "                                                                 \n",
      " dropout_4 (Dropout)         (None, 254, 254, 16)      0         \n",
      "                                                                 \n",
      " conv2d_5 (Conv2D)           (None, 250, 250, 32)      12832     \n",
      "                                                                 \n",
      " max_pooling2d_5 (MaxPooling  (None, 125, 125, 32)     0         \n",
      " 2D)                                                             \n",
      "                                                                 \n",
      " dropout_5 (Dropout)         (None, 125, 125, 32)      0         \n",
      "                                                                 \n",
      " flatten_2 (Flatten)         (None, 500000)            0         \n",
      "                                                                 \n",
      " dense_4 (Dense)             (None, 128)               64000128  \n",
      "                                                                 \n",
      " dense_5 (Dense)             (None, 1)                 129       \n",
      "                                                                 \n",
      "=================================================================\n",
      "Total params: 64,013,505\n",
      "Trainable params: 64,013,505\n",
      "Non-trainable params: 0\n",
      "_________________________________________________________________\n"
     ]
    }
   ],
   "source": [
    "classifier.summary()"
   ]
  },
  {
   "cell_type": "code",
   "execution_count": 50,
   "metadata": {},
   "outputs": [],
   "source": [
    "def to_grayscale_then_rgb(image):\n",
    "    # image = tf.image.rgb_to_grayscale(image)\n",
    "    # image = tf.image.grayscale_to_rgb(image)\n",
    "    return image"
   ]
  },
  {
   "cell_type": "code",
   "execution_count": 51,
   "metadata": {},
   "outputs": [],
   "source": [
    "train_datagen = ImageDataGenerator(rescale = 1/255,\n",
    "                                   preprocessing_function=to_grayscale_then_rgb,   )\n",
    "test_datagen = ImageDataGenerator(rescale = 1/255,preprocessing_function=to_grayscale_then_rgb)"
   ]
  },
  {
   "cell_type": "code",
   "execution_count": 52,
   "metadata": {},
   "outputs": [
    {
     "name": "stdout",
     "output_type": "stream",
     "text": [
      "Found 200 images belonging to 2 classes.\n",
      "Found 120 images belonging to 2 classes.\n"
     ]
    }
   ],
   "source": [
    "ts= train_datagen.flow_from_directory(\n",
    "        'datasets/training_set',\n",
    "        target_size = (512, 512),\n",
    "        batch_size = 2,\n",
    "        class_mode = 'binary',\n",
    "        color_mode='grayscale')\n",
    "tx = test_datagen.flow_from_directory(\n",
    "        'datasets/test_set',\n",
    "        target_size = (512,512),\n",
    "        batch_size = 2,\n",
    "        class_mode = 'binary',\n",
    "        color_mode='grayscale')"
   ]
  },
  {
   "cell_type": "code",
   "execution_count": 53,
   "metadata": {},
   "outputs": [
    {
     "data": {
      "text/plain": [
       "(512, 512, 1)"
      ]
     },
     "execution_count": 53,
     "metadata": {},
     "output_type": "execute_result"
    }
   ],
   "source": [
    "ts.image_shape"
   ]
  },
  {
   "cell_type": "code",
   "execution_count": 54,
   "metadata": {},
   "outputs": [
    {
     "name": "stdout",
     "output_type": "stream",
     "text": [
      "Epoch 1/50\n",
      "5/5 [==============================] - 10s 2s/step - loss: 34.6217 - accuracy: 0.6000 - val_loss: 9.6131 - val_accuracy: 0.5000\n",
      "Epoch 2/50\n",
      "5/5 [==============================] - 7s 2s/step - loss: 9.5052 - accuracy: 0.4000 - val_loss: 0.6972 - val_accuracy: 0.4500\n",
      "Epoch 3/50\n",
      "5/5 [==============================] - 7s 2s/step - loss: 0.6982 - accuracy: 0.6000 - val_loss: 0.7120 - val_accuracy: 0.4000\n",
      "Epoch 4/50\n",
      "5/5 [==============================] - 9s 2s/step - loss: 0.7732 - accuracy: 0.6000 - val_loss: 0.6905 - val_accuracy: 0.5500\n",
      "Epoch 5/50\n",
      "5/5 [==============================] - 7s 1s/step - loss: 0.6967 - accuracy: 0.5000 - val_loss: 0.6934 - val_accuracy: 0.4500\n",
      "Epoch 6/50\n",
      "5/5 [==============================] - 6s 1s/step - loss: 0.7006 - accuracy: 0.4000 - val_loss: 0.6938 - val_accuracy: 0.4250\n",
      "Epoch 7/50\n",
      "5/5 [==============================] - 6s 1s/step - loss: 0.6874 - accuracy: 0.7000 - val_loss: 0.6941 - val_accuracy: 0.4000\n",
      "Epoch 8/50\n",
      "5/5 [==============================] - 6s 1s/step - loss: 0.6902 - accuracy: 0.5000 - val_loss: 0.6925 - val_accuracy: 0.5500\n",
      "Epoch 9/50\n",
      "5/5 [==============================] - 6s 1s/step - loss: 0.6870 - accuracy: 0.7000 - val_loss: 0.6935 - val_accuracy: 0.4750\n",
      "Epoch 10/50\n",
      "5/5 [==============================] - 5s 1s/step - loss: 0.6881 - accuracy: 0.6000 - val_loss: 0.6936 - val_accuracy: 0.4750\n",
      "Epoch 11/50\n",
      "5/5 [==============================] - 6s 1s/step - loss: 0.6993 - accuracy: 0.3000 - val_loss: 0.6941 - val_accuracy: 0.4500\n",
      "Epoch 12/50\n",
      "5/5 [==============================] - 6s 1s/step - loss: 0.6922 - accuracy: 0.5000 - val_loss: 0.6910 - val_accuracy: 0.5750\n",
      "Epoch 13/50\n",
      "5/5 [==============================] - 5s 1s/step - loss: 0.6915 - accuracy: 0.5000 - val_loss: 0.6946 - val_accuracy: 0.4000\n",
      "Epoch 14/50\n",
      "5/5 [==============================] - 5s 1s/step - loss: 0.6808 - accuracy: 0.5000 - val_loss: 0.6937 - val_accuracy: 0.4000\n",
      "Epoch 15/50\n",
      "5/5 [==============================] - 5s 1s/step - loss: 0.6812 - accuracy: 0.5000 - val_loss: 0.6655 - val_accuracy: 0.6000\n",
      "Epoch 16/50\n",
      "5/5 [==============================] - 5s 1s/step - loss: 0.5569 - accuracy: 0.8000 - val_loss: 0.6322 - val_accuracy: 0.6500\n",
      "Epoch 17/50\n",
      "5/5 [==============================] - 5s 1s/step - loss: 0.6067 - accuracy: 0.7000 - val_loss: 0.6497 - val_accuracy: 0.6250\n",
      "Epoch 18/50\n",
      "5/5 [==============================] - 5s 1s/step - loss: 0.7652 - accuracy: 0.6000 - val_loss: 0.7396 - val_accuracy: 0.6250\n",
      "Epoch 19/50\n",
      "5/5 [==============================] - 5s 1s/step - loss: 0.7356 - accuracy: 0.5000 - val_loss: 0.6739 - val_accuracy: 0.5750\n",
      "Epoch 20/50\n",
      "5/5 [==============================] - 5s 1s/step - loss: 0.6754 - accuracy: 0.6000 - val_loss: 0.6841 - val_accuracy: 0.5750\n",
      "Epoch 21/50\n",
      "5/5 [==============================] - 5s 1s/step - loss: 0.6899 - accuracy: 0.6000 - val_loss: 0.6925 - val_accuracy: 0.4000\n",
      "Epoch 22/50\n",
      "5/5 [==============================] - 5s 1s/step - loss: 0.6864 - accuracy: 0.4000 - val_loss: 0.6901 - val_accuracy: 0.5000\n",
      "Epoch 23/50\n",
      "5/5 [==============================] - 5s 1s/step - loss: 0.6910 - accuracy: 0.5000 - val_loss: 0.6887 - val_accuracy: 0.6000\n",
      "Epoch 24/50\n",
      "5/5 [==============================] - 5s 1s/step - loss: 0.6844 - accuracy: 0.7000 - val_loss: 0.6749 - val_accuracy: 0.6750\n",
      "Epoch 25/50\n",
      "5/5 [==============================] - 5s 1s/step - loss: 0.6979 - accuracy: 0.5000 - val_loss: 0.6576 - val_accuracy: 0.8000\n",
      "Epoch 26/50\n",
      "5/5 [==============================] - 5s 1s/step - loss: 0.5625 - accuracy: 0.7000 - val_loss: 0.6754 - val_accuracy: 0.5250\n",
      "Epoch 27/50\n",
      "5/5 [==============================] - 5s 1s/step - loss: 2.9996 - accuracy: 0.6000 - val_loss: 0.6658 - val_accuracy: 0.5750\n",
      "Epoch 28/50\n",
      "5/5 [==============================] - 5s 1s/step - loss: 0.6909 - accuracy: 0.7000 - val_loss: 0.6912 - val_accuracy: 0.7000\n",
      "Epoch 29/50\n",
      "5/5 [==============================] - 6s 1s/step - loss: 0.6893 - accuracy: 0.8000 - val_loss: 0.6912 - val_accuracy: 0.6750\n",
      "Epoch 30/50\n",
      "5/5 [==============================] - 5s 1s/step - loss: 0.6663 - accuracy: 0.9000 - val_loss: 0.6842 - val_accuracy: 0.7500\n",
      "Epoch 31/50\n",
      "5/5 [==============================] - 5s 1s/step - loss: 0.6601 - accuracy: 0.5000 - val_loss: 0.6797 - val_accuracy: 0.8250\n",
      "Epoch 32/50\n",
      "5/5 [==============================] - 5s 1s/step - loss: 0.6962 - accuracy: 0.7000 - val_loss: 0.6599 - val_accuracy: 0.7750\n",
      "Epoch 33/50\n",
      "5/5 [==============================] - 5s 1s/step - loss: 0.6617 - accuracy: 0.4000 - val_loss: 0.6609 - val_accuracy: 0.7250\n",
      "Epoch 34/50\n",
      "5/5 [==============================] - 5s 1s/step - loss: 0.6012 - accuracy: 0.7000 - val_loss: 0.6192 - val_accuracy: 0.8250\n",
      "Epoch 35/50\n",
      "5/5 [==============================] - 5s 1s/step - loss: 0.7019 - accuracy: 0.4000 - val_loss: 0.6580 - val_accuracy: 0.5250\n",
      "Epoch 36/50\n",
      "5/5 [==============================] - 5s 1s/step - loss: 0.6150 - accuracy: 0.6000 - val_loss: 0.5788 - val_accuracy: 0.7500\n",
      "Epoch 37/50\n",
      "5/5 [==============================] - 5s 1s/step - loss: 0.6631 - accuracy: 0.6000 - val_loss: 0.5923 - val_accuracy: 0.6500\n",
      "Epoch 38/50\n",
      "5/5 [==============================] - 5s 1s/step - loss: 0.4740 - accuracy: 0.7000 - val_loss: 0.5425 - val_accuracy: 0.8000\n",
      "Epoch 39/50\n",
      "5/5 [==============================] - 5s 1s/step - loss: 0.5467 - accuracy: 0.6000 - val_loss: 0.5250 - val_accuracy: 0.7000\n",
      "Epoch 40/50\n",
      "5/5 [==============================] - 5s 1s/step - loss: 0.3730 - accuracy: 0.8000 - val_loss: 0.4415 - val_accuracy: 0.8000\n",
      "Epoch 41/50\n",
      "5/5 [==============================] - 5s 1s/step - loss: 0.6064 - accuracy: 0.7000 - val_loss: 0.4008 - val_accuracy: 0.9250\n",
      "Epoch 42/50\n",
      "5/5 [==============================] - 5s 1s/step - loss: 0.8033 - accuracy: 0.6000 - val_loss: 0.4848 - val_accuracy: 0.8250\n",
      "Epoch 43/50\n",
      "5/5 [==============================] - 5s 1s/step - loss: 0.3784 - accuracy: 0.9000 - val_loss: 0.5206 - val_accuracy: 0.7750\n",
      "Epoch 44/50\n",
      "5/5 [==============================] - 5s 1s/step - loss: 0.5367 - accuracy: 0.7000 - val_loss: 0.3624 - val_accuracy: 0.9750\n",
      "Epoch 45/50\n",
      "5/5 [==============================] - 5s 1s/step - loss: 0.3780 - accuracy: 0.8000 - val_loss: 0.3352 - val_accuracy: 0.9000\n",
      "Epoch 46/50\n",
      "5/5 [==============================] - 5s 1s/step - loss: 0.3847 - accuracy: 0.8000 - val_loss: 0.4697 - val_accuracy: 0.9250\n",
      "Epoch 47/50\n",
      "5/5 [==============================] - 5s 1s/step - loss: 0.3797 - accuracy: 0.9000 - val_loss: 0.4149 - val_accuracy: 0.9750\n",
      "Epoch 48/50\n",
      "5/5 [==============================] - 5s 1s/step - loss: 0.4070 - accuracy: 0.9000 - val_loss: 0.3242 - val_accuracy: 0.9250\n",
      "Epoch 49/50\n",
      "5/5 [==============================] - 5s 1s/step - loss: 0.2933 - accuracy: 0.9000 - val_loss: 0.3748 - val_accuracy: 0.7750\n",
      "Epoch 50/50\n",
      "5/5 [==============================] - 5s 1s/step - loss: 0.5906 - accuracy: 0.8000 - val_loss: 0.4084 - val_accuracy: 0.9250\n"
     ]
    }
   ],
   "source": [
    "history = classifier.fit(ts,\n",
    "                         steps_per_epoch= 5,\n",
    "                         epochs=50,\n",
    "                         validation_data = tx,\n",
    "                         validation_steps= 20)"
   ]
  },
  {
   "cell_type": "code",
   "execution_count": 55,
   "metadata": {},
   "outputs": [
    {
     "data": {
      "text/plain": [
       "[<matplotlib.lines.Line2D at 0x23a951bd640>]"
      ]
     },
     "execution_count": 55,
     "metadata": {},
     "output_type": "execute_result"
    },
    {
     "data": {
      "image/png": "[encoded data removed]",
      "text/plain": [
       "<Figure size 432x288 with 1 Axes>"
      ]
     },
     "metadata": {
      "needs_background": "light"
     },
     "output_type": "display_data"
    }
   ],
   "source": [
    "plt.plot(history.history['loss'])"
   ]
  },
  {
   "cell_type": "code",
   "execution_count": 56,
   "metadata": {},
   "outputs": [
    {
     "data": {
      "text/plain": [
       "[<matplotlib.lines.Line2D at 0x23a957c58e0>]"
      ]
     },
     "execution_count": 56,
     "metadata": {},
     "output_type": "execute_result"
    },
    {
     "data": {
      "image/png": "[encoded data removed]",
      "text/plain": [
       "<Figure size 432x288 with 1 Axes>"
      ]
     },
     "metadata": {
      "needs_background": "light"
     },
     "output_type": "display_data"
    }
   ],
   "source": [
    "plt.plot(history.history['accuracy'])"
   ]
  },
  {
   "cell_type": "code",
   "execution_count": 57,
   "metadata": {},
   "outputs": [
    {
     "name": "stdout",
     "output_type": "stream",
     "text": [
      "60/60 [==============================] - 6s 97ms/step - loss: 0.4231 - accuracy: 0.9083\n"
     ]
    },
    {
     "data": {
      "text/plain": [
       "[0.42305895686149597, 0.9083333611488342]"
      ]
     },
     "execution_count": 57,
     "metadata": {},
     "output_type": "execute_result"
    }
   ],
   "source": [
    "classifier.evaluate(tx)"
   ]
  },
  {
   "cell_type": "code",
   "execution_count": 58,
   "metadata": {},
   "outputs": [
    {
     "name": "stderr",
     "output_type": "stream",
     "text": [
      "WARNING:absl:Found untraced functions such as _jit_compiled_convolution_op, _jit_compiled_convolution_op while saving (showing 2 of 2). These functions will not be directly callable after loading.\n"
     ]
    },
    {
     "name": "stdout",
     "output_type": "stream",
     "text": [
      "INFO:tensorflow:Assets written to: ram://46704dfd-a30f-48b2-a0f6-596cc39f7798/assets\n"
     ]
    },
    {
     "name": "stderr",
     "output_type": "stream",
     "text": [
      "INFO:tensorflow:Assets written to: ram://46704dfd-a30f-48b2-a0f6-596cc39f7798/assets\n"
     ]
    },
    {
     "data": {
      "text/plain": [
       "['hand_ap.pkl']"
      ]
     },
     "execution_count": 58,
     "metadata": {},
     "output_type": "execute_result"
    }
   ],
   "source": [
    "model_dict={\n",
    "    'title':'Handwriting Recognition Model',\n",
    "    'classifier':classifier\n",
    "}\n",
    "\n",
    "dump(model_dict, \"hand_ap.pkl\")"
   ]
  },
  {
   "cell_type": "code",
   "execution_count": 59,
   "metadata": {},
   "outputs": [],
   "source": [
    "from joblib import load"
   ]
  },
  {
   "cell_type": "code",
   "execution_count": 60,
   "metadata": {},
   "outputs": [],
   "source": [
    "def load_model():\n",
    "    filepath = 'hand_ap.pkl'\n",
    "    return load(filepath)"
   ]
  },
  {
   "cell_type": "code",
   "execution_count": 61,
   "metadata": {},
   "outputs": [],
   "source": [
    "classifier.save('classifier.h5')"
   ]
  },
  {
   "cell_type": "code",
   "execution_count": 62,
   "metadata": {},
   "outputs": [],
   "source": [
    "classifier = tf.keras.models.load_model('classifier.h5')"
   ]
  },
  {
   "cell_type": "code",
   "execution_count": 63,
   "metadata": {},
   "outputs": [],
   "source": [
    "import numpy as np"
   ]
  },
  {
   "cell_type": "code",
   "execution_count": 64,
   "metadata": {},
   "outputs": [
    {
     "data": {
      "text/plain": [
       "(1, 512, 512, 1)"
      ]
     },
     "execution_count": 64,
     "metadata": {},
     "output_type": "execute_result"
    }
   ],
   "source": [
    "img =tf.keras.utils.load_img('E:\\Handwriting Recognition\\datasets/test_set/Akash/01.jpg',color_mode='grayscale',target_size=(512,512,1))\n",
    "xinput =tf.keras.utils.img_to_array(img)\n",
    "np.array([xinput]).shape"
   ]
  },
  {
   "cell_type": "code",
   "execution_count": 65,
   "metadata": {},
   "outputs": [
    {
     "name": "stdout",
     "output_type": "stream",
     "text": [
      "1/1 [==============================] - 1s 577ms/step\n",
      "[1.]\n",
      "second person\n"
     ]
    }
   ],
   "source": [
    "img =tf.keras.utils.load_img(f'E:\\Handwriting Recognition\\datasets/training_set\\Anmol/01.jpg',color_mode='grayscale',target_size=(512,512,1))\n",
    "xinput =tf.keras.utils.img_to_array(img)\n",
    "prediction = classifier.predict(np.array([xinput]))[0]\n",
    "print(prediction)\n",
    "if prediction <.5:\n",
    "    print('first person')\n",
    "else:\n",
    "    print('second person')"
   ]
  },
  {
   "cell_type": "code",
   "execution_count": 66,
   "metadata": {},
   "outputs": [
    {
     "name": "stdout",
     "output_type": "stream",
     "text": [
      "60/60 [==============================] - 7s 112ms/step\n"
     ]
    },
    {
     "data": {
      "text/plain": [
       "array([[0.1547053 ],\n",
       "       [0.34756297],\n",
       "       [0.07843984],\n",
       "       [0.7688054 ],\n",
       "       [0.60258454],\n",
       "       [0.65623343],\n",
       "       [0.54812247],\n",
       "       [0.34557736],\n",
       "       [0.11116707],\n",
       "       [0.33465287],\n",
       "       [0.66756696],\n",
       "       [0.37250212],\n",
       "       [0.7249748 ],\n",
       "       [0.18643375],\n",
       "       [0.00098188],\n",
       "       [0.49422932],\n",
       "       [0.40582398],\n",
       "       [0.37152192],\n",
       "       [0.6309213 ],\n",
       "       [0.08195664],\n",
       "       [0.06536374],\n",
       "       [0.5341557 ],\n",
       "       [0.66307336],\n",
       "       [0.4048504 ],\n",
       "       [0.57602984],\n",
       "       [0.31711686],\n",
       "       [0.03324784],\n",
       "       [0.63453335],\n",
       "       [0.15093887],\n",
       "       [0.1319509 ],\n",
       "       [0.45320046],\n",
       "       [0.5239505 ],\n",
       "       [0.49847254],\n",
       "       [0.15940839],\n",
       "       [0.8356215 ],\n",
       "       [0.5904603 ],\n",
       "       [0.1502541 ],\n",
       "       [0.3724551 ],\n",
       "       [0.14559828],\n",
       "       [0.4689331 ],\n",
       "       [0.58862275],\n",
       "       [0.66387844],\n",
       "       [0.8327191 ],\n",
       "       [0.48697102],\n",
       "       [0.19582829],\n",
       "       [0.52768743],\n",
       "       [0.17687596],\n",
       "       [0.17645001],\n",
       "       [0.07533953],\n",
       "       [0.5422372 ],\n",
       "       [0.45514908],\n",
       "       [0.78141326],\n",
       "       [0.8002888 ],\n",
       "       [0.5086188 ],\n",
       "       [0.14993484],\n",
       "       [0.5284495 ],\n",
       "       [0.617003  ],\n",
       "       [0.25922593],\n",
       "       [0.30275533],\n",
       "       [0.6475202 ],\n",
       "       [0.3931699 ],\n",
       "       [0.53726333],\n",
       "       [0.16203554],\n",
       "       [0.5738652 ],\n",
       "       [0.33096132],\n",
       "       [0.70412004],\n",
       "       [0.80798167],\n",
       "       [0.34265575],\n",
       "       [0.16281886],\n",
       "       [0.10338446],\n",
       "       [0.6171097 ],\n",
       "       [0.58516204],\n",
       "       [0.08968597],\n",
       "       [0.4465775 ],\n",
       "       [0.67585105],\n",
       "       [0.1843875 ],\n",
       "       [0.3780473 ],\n",
       "       [0.5660855 ],\n",
       "       [0.54214126],\n",
       "       [0.21904862],\n",
       "       [0.18799287],\n",
       "       [0.585714  ],\n",
       "       [0.6507859 ],\n",
       "       [0.7854367 ],\n",
       "       [0.579979  ],\n",
       "       [0.5646439 ],\n",
       "       [0.20678635],\n",
       "       [0.1820144 ],\n",
       "       [0.53565043],\n",
       "       [0.59243053],\n",
       "       [0.29670227],\n",
       "       [0.1288968 ],\n",
       "       [0.54845095],\n",
       "       [0.2418442 ],\n",
       "       [0.5797172 ],\n",
       "       [0.54475516],\n",
       "       [0.53367406],\n",
       "       [0.77639794],\n",
       "       [0.55208445],\n",
       "       [0.6579679 ],\n",
       "       [0.17578892],\n",
       "       [0.70228845],\n",
       "       [0.76909816],\n",
       "       [0.55789393],\n",
       "       [0.38303676],\n",
       "       [0.46445405],\n",
       "       [0.3128648 ],\n",
       "       [0.5493154 ],\n",
       "       [0.36183378],\n",
       "       [0.584359  ],\n",
       "       [0.2782446 ],\n",
       "       [0.5764808 ],\n",
       "       [0.54483163],\n",
       "       [0.38576868],\n",
       "       [0.5611166 ],\n",
       "       [0.46741953],\n",
       "       [0.55295604],\n",
       "       [0.5408385 ],\n",
       "       [0.6140536 ],\n",
       "       [0.27858862]], dtype=float32)"
      ]
     },
     "execution_count": 66,
     "metadata": {},
     "output_type": "execute_result"
    }
   ],
   "source": [
    "classifier.predict(tx)"
   ]
  },
  {
   "cell_type": "code",
   "execution_count": 67,
   "metadata": {},
   "outputs": [
    {
     "name": "stdout",
     "output_type": "stream",
     "text": [
      "1/1 [==============================] - 0s 98ms/step\n",
      "[0.]\n",
      "first person\n",
      "1/1 [==============================] - 0s 80ms/step\n",
      "[0.]\n",
      "first person\n",
      "1/1 [==============================] - 0s 71ms/step\n",
      "[0.]\n",
      "first person\n",
      "1/1 [==============================] - 0s 71ms/step\n",
      "[0.]\n",
      "first person\n",
      "1/1 [==============================] - 0s 105ms/step\n",
      "[0.9833129]\n",
      "second person\n",
      "1/1 [==============================] - 0s 82ms/step\n",
      "[0.]\n",
      "first person\n",
      "1/1 [==============================] - 0s 75ms/step\n",
      "[0.]\n",
      "first person\n",
      "1/1 [==============================] - 0s 78ms/step\n",
      "[0.]\n",
      "first person\n",
      "1/1 [==============================] - 0s 101ms/step\n",
      "[0.]\n",
      "first person\n",
      "1/1 [==============================] - 0s 116ms/step\n",
      "[0.]\n",
      "first person\n",
      "1/1 [==============================] - 0s 89ms/step\n",
      "[0.]\n",
      "first person\n",
      "1/1 [==============================] - 0s 104ms/step\n",
      "[0.]\n",
      "first person\n",
      "1/1 [==============================] - 0s 112ms/step\n",
      "[8.1234776e-35]\n",
      "first person\n",
      "1/1 [==============================] - 0s 103ms/step\n",
      "[0.]\n",
      "first person\n",
      "1/1 [==============================] - 0s 114ms/step\n",
      "[0.]\n",
      "first person\n",
      "1/1 [==============================] - 0s 113ms/step\n",
      "[0.]\n",
      "first person\n",
      "1/1 [==============================] - 0s 112ms/step\n",
      "[0.]\n",
      "first person\n",
      "1/1 [==============================] - 0s 112ms/step\n",
      "[0.]\n",
      "first person\n",
      "1/1 [==============================] - 0s 127ms/step\n",
      "[0.]\n",
      "first person\n",
      "1/1 [==============================] - 0s 115ms/step\n",
      "[0.]\n",
      "first person\n",
      "1/1 [==============================] - 0s 122ms/step\n",
      "[0.]\n",
      "first person\n",
      "1/1 [==============================] - 0s 88ms/step\n",
      "[0.]\n",
      "first person\n",
      "1/1 [==============================] - 0s 88ms/step\n",
      "[0.]\n",
      "first person\n",
      "1/1 [==============================] - 0s 108ms/step\n",
      "[0.]\n",
      "first person\n",
      "1/1 [==============================] - 0s 117ms/step\n",
      "[0.]\n",
      "first person\n",
      "1/1 [==============================] - 0s 111ms/step\n",
      "[0.]\n",
      "first person\n",
      "1/1 [==============================] - 0s 95ms/step\n",
      "[0.]\n",
      "first person\n",
      "1/1 [==============================] - 0s 136ms/step\n",
      "[0.]\n",
      "first person\n",
      "1/1 [==============================] - 0s 107ms/step\n",
      "[0.]\n",
      "first person\n",
      "1/1 [==============================] - 0s 82ms/step\n",
      "[0.]\n",
      "first person\n",
      "1/1 [==============================] - 0s 95ms/step\n",
      "[1.4503708e-21]\n",
      "first person\n",
      "1/1 [==============================] - 0s 114ms/step\n",
      "[3.005151e-35]\n",
      "first person\n",
      "1/1 [==============================] - 0s 94ms/step\n",
      "[1.]\n",
      "second person\n",
      "1/1 [==============================] - 0s 99ms/step\n",
      "[1.5151923e-23]\n",
      "first person\n",
      "1/1 [==============================] - 0s 113ms/step\n",
      "[0.]\n",
      "first person\n",
      "1/1 [==============================] - 0s 116ms/step\n",
      "[0.]\n",
      "first person\n",
      "1/1 [==============================] - 0s 106ms/step\n",
      "[0.]\n",
      "first person\n",
      "1/1 [==============================] - 0s 81ms/step\n",
      "[0.]\n",
      "first person\n",
      "1/1 [==============================] - 0s 117ms/step\n",
      "[1.]\n",
      "second person\n"
     ]
    }
   ],
   "source": [
    "answers = [] \n",
    "for i in range(11,50):\n",
    "    img =tf.keras.utils.load_img(f'E:\\Handwriting Recognition\\datasets/training_set\\Akash/{i}.jpg',color_mode='grayscale',target_size=(512,512,1))\n",
    "    xinput =tf.keras.utils.img_to_array(img)\n",
    "    # img.show()\n",
    "    prediction = classifier.predict(np.array([xinput]))[0]\n",
    "    print(prediction)\n",
    "\n",
    "    if prediction <.5:\n",
    "        print('first person')\n",
    "        answers.append(0)\n",
    "    else:\n",
    "        print('second person')\n",
    "        answers.append(1)"
   ]
  },
  {
   "cell_type": "code",
   "execution_count": 68,
   "metadata": {},
   "outputs": [
    {
     "name": "stdout",
     "output_type": "stream",
     "text": [
      "[0, 0, 0, 0, 1, 0, 0, 0, 0, 0, 0, 0, 0, 0, 0, 0, 0, 0, 0, 0, 0, 0, 0, 0, 0, 0, 0, 0, 0, 0, 0, 0, 1, 0, 0, 0, 0, 0, 1]\n"
     ]
    }
   ],
   "source": [
    "print(answers)"
   ]
  },
  {
   "cell_type": "code",
   "execution_count": null,
   "metadata": {},
   "outputs": [],
   "source": []
  }
 ],
 "metadata": {
  "interpreter": {
   "hash": "be9c231c5b504d20b06eca3e25a941dec413bf062c515d7fd6b9384530ff9409"
  },
  "kernelspec": {
   "display_name": "Python 3.9.7 ('base')",
   "language": "python",
   "name": "python3"
  },
  "language_info": {
   "codemirror_mode": {
    "name": "ipython",
    "version": 3
   },
   "file_extension": ".py",
   "mimetype": "text/x-python",
   "name": "python",
   "nbconvert_exporter": "python",
   "pygments_lexer": "ipython3",
   "version": "3.9.7"
  },
  "orig_nbformat": 4
 },
 "nbformat": 4,
 "nbformat_minor": 2
}
